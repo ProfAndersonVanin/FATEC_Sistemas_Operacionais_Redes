{
  "nbformat": 4,
  "nbformat_minor": 0,
  "metadata": {
    "colab": {
      "provenance": [],
      "authorship_tag": "ABX9TyMp6jlLkq16fpCieu6eo2jN",
      "include_colab_link": true
    },
    "kernelspec": {
      "name": "python3",
      "display_name": "Python 3"
    },
    "language_info": {
      "name": "python"
    }
  },
  "cells": [
    {
      "cell_type": "markdown",
      "metadata": {
        "id": "view-in-github",
        "colab_type": "text"
      },
      "source": [
        "<a href=\"https://colab.research.google.com/github/ProfAndersonVanin/FATEC_Sistemas_Operacionais_Redes/blob/main/Aula05_Threads.ipynb\" target=\"_parent\"><img src=\"https://colab.research.google.com/assets/colab-badge.svg\" alt=\"Open In Colab\"/></a>"
      ]
    },
    {
      "cell_type": "markdown",
      "source": [
        "# Threads\n",
        "Vamos começar com um programa simples:"
      ],
      "metadata": {
        "id": "RjGirBWLtU0Z"
      }
    },
    {
      "cell_type": "code",
      "execution_count": 1,
      "metadata": {
        "colab": {
          "base_uri": "https://localhost:8080/"
        },
        "id": "-514_UWTtMQg",
        "outputId": "d818cd0d-27f7-4205-884d-d657accfa36f"
      },
      "outputs": [
        {
          "output_type": "stream",
          "name": "stdout",
          "text": [
            "Começando um tarefa...\n",
            "feito!\n",
            "Começando um tarefa...\n",
            "feito!\n",
            "Levou  2.00 segundo(s) para completar.\n"
          ]
        }
      ],
      "source": [
        "from time import sleep, perf_counter\n",
        "\n",
        "def tarefa():\n",
        "    print('Começando um tarefa...')\n",
        "    sleep(1)\n",
        "    print('feito!')\n",
        "\n",
        "inicio = perf_counter()\n",
        "\n",
        "tarefa()\n",
        "tarefa()\n",
        "\n",
        "fim = perf_counter()\n",
        "\n",
        "print(f'Levou {fim - inicio: 0.2f} segundo(s) para completar.')"
      ]
    },
    {
      "cell_type": "markdown",
      "source": [
        "Como você pode esperar, o programa leva cerca de dois segundos para ser concluído. Se você chamar a task()função 10 vezes, levará cerca de 10 segundos para ser concluída.\n",
        "\n",
        "O diagrama a seguir ilustra como o programa funciona:"
      ],
      "metadata": {
        "id": "ZO9QqNput-t8"
      }
    },
    {
      "cell_type": "markdown",
      "source": [
        "![image.png](data:image/png;base64,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)"
      ],
      "metadata": {
        "id": "z5Uck42cuGZE"
      }
    },
    {
      "cell_type": "markdown",
      "source": [
        "Primeiro, a função **tarefa()** é executada e inativa por um segundo. Em seguida, ele executa a segunda vez e também dorme por mais um segundo. Por fim, o programa é concluído.\n",
        "\n",
        "Quando a função **tarefa()** chama a função **sleep()**, a CPU está ociosa. Em outras palavras, a CPU não faz nada, o que não é eficiente em termos de utilização de recursos.\n",
        "\n",
        "Este programa possui um processo com um único thread, chamado de thread principal. Como o programa tem apenas um thread, ele é chamado de **programa de thread único**."
      ],
      "metadata": {
        "id": "2CBxktbxuTZR"
      }
    },
    {
      "cell_type": "markdown",
      "source": [
        "# Usando threading Python para desenvolver um exemplo de programa multi-threaded"
      ],
      "metadata": {
        "id": "U7ECJSS2utlg"
      }
    },
    {
      "cell_type": "code",
      "source": [
        "from time import sleep, perf_counter\n",
        "from threading import Thread\n",
        "\n",
        "def tarefa():\n",
        "    print('Começando um tarefa...')\n",
        "    sleep(1)\n",
        "    print('feito!')\n",
        "\n",
        "inicio = perf_counter()\n",
        "\n",
        "# Criando 2 novas threads\n",
        "t1 = Thread(target=tarefa)\n",
        "t2 = Thread(target=tarefa)\n",
        "\n",
        "# iniciando as threads\n",
        "t1.start()\n",
        "t2.start()\n",
        "\n",
        "# esperando as threads ficarem completas\n",
        "t1.join()\n",
        "t2.join()\n",
        "\n",
        "fim = perf_counter()\n",
        "\n",
        "print(f'Levou {fim - inicio: 0.2f} segundo(s) para completar.')"
      ],
      "metadata": {
        "colab": {
          "base_uri": "https://localhost:8080/"
        },
        "id": "bS-7qKg3uvqO",
        "outputId": "2b7b3052-7094-4e92-d4ce-0a18bcfe191a"
      },
      "execution_count": 2,
      "outputs": [
        {
          "output_type": "stream",
          "name": "stdout",
          "text": [
            "Começando um tarefa...\n",
            "Começando um tarefa...\n",
            "feito!\n",
            "feito!\n",
            "Levou  1.01 segundo(s) para completar.\n"
          ]
        }
      ]
    },
    {
      "cell_type": "markdown",
      "source": [
        "Quando o programa for executado, **ele terá três threads**: a thread principal é criada pelo interpretador Python e duas threads são criadas pelo programa.\n",
        "\n",
        "Conforme mostrado claramente na saída, o programa levou um segundo em vez de dois para ser concluído.\n",
        "\n",
        "O diagrama a seguir mostra como as threads são executadas:"
      ],
      "metadata": {
        "id": "hjfKDre2vlVa"
      }
    },
    {
      "cell_type": "markdown",
      "source": [
        "![image.png](data:image/png;base64,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)"
      ],
      "metadata": {
        "id": "wmBPKMifv0a5"
      }
    },
    {
      "cell_type": "markdown",
      "source": [
        "# Passando argumentos para threads\n",
        "O programa a seguir mostra como passar argumentos para a função atribuída a um thread:"
      ],
      "metadata": {
        "id": "qCW4MBxYv4pI"
      }
    },
    {
      "cell_type": "code",
      "source": [
        "from time import sleep, perf_counter\n",
        "from threading import Thread\n",
        "\n",
        "def tarefa(id):\n",
        "    print(f'Começando a tarefa {id}...')\n",
        "    sleep(1)\n",
        "    print(f'A tarefa {id} está completa')\n",
        "\n",
        "inicio = perf_counter()\n",
        "\n",
        "# criando e iniciando 10 threads\n",
        "threads = []\n",
        "for n in range(1, 11):\n",
        "    t = Thread(target=tarefa, args=(n,))\n",
        "    threads.append(t)\n",
        "    t.start()\n",
        "\n",
        "# esperando as threads ficarem completas\n",
        "for t in threads:\n",
        "    t.join()\n",
        "\n",
        "fim = perf_counter()\n",
        "\n",
        "print(f'Levou {fim - inicio: 0.2f} segundo(s) para completar.')"
      ],
      "metadata": {
        "colab": {
          "base_uri": "https://localhost:8080/"
        },
        "id": "AZTpcZBBvvM9",
        "outputId": "0000d58d-34bd-4d10-87f5-001db6ce97b0"
      },
      "execution_count": 3,
      "outputs": [
        {
          "output_type": "stream",
          "name": "stdout",
          "text": [
            "Começando a tarefa 1...\n",
            "Começando a tarefa 2...\n",
            "Começando a tarefa 3...Começando a tarefa 4...\n",
            "\n",
            "Começando a tarefa 5...\n",
            "Começando a tarefa 6...\n",
            "Começando a tarefa 7...\n",
            "Começando a tarefa 8...\n",
            "Começando a tarefa 9...\n",
            "Começando a tarefa 10...\n",
            "A tarefa 1 está completa\n",
            "A tarefa 2 está completa\n",
            "A tarefa 3 está completa\n",
            "A tarefa 4 está completa\n",
            "A tarefa 5 está completa\n",
            "A tarefa 6 está completa\n",
            "A tarefa 7 está completa\n",
            "A tarefa 8 está completa\n",
            "A tarefa 9 está completa\n",
            "A tarefa 10 está completa\n",
            "Levou  1.02 segundo(s) para completar.\n"
          ]
        }
      ]
    },
    {
      "cell_type": "markdown",
      "source": [
        "Levou apenas 1,02 segundos para ser concluído.\n",
        "\n",
        "Observe que o programa não executa a thread na ordem de 1 a 10."
      ],
      "metadata": {
        "id": "jhBIgqLUwpzL"
      }
    },
    {
      "cell_type": "markdown",
      "source": [
        "# Quando usar o threading do Python\n",
        "Há duas tarefas principais:\n",
        "*   Tarefas limitadas por I/O – o tempo gasto em I/O é significativamente maior do que o tempo gasto em computação\n",
        "*   Tarefas vinculadas à CPU – o tempo gasto em computação é significativamente maior do que o tempo de espera por E/S.\n",
        "\n",
        "O encadeamento do Python é otimizado para tarefas vinculadas a E/S. Por exemplo, solicitar recursos remotos, conectar um servidor de banco de dados ou ler e gravar arquivos."
      ],
      "metadata": {
        "id": "d43cqVWowydC"
      }
    },
    {
      "cell_type": "markdown",
      "source": [
        "# Um exemplo prático de threading em Python\n",
        "Suponha que você tenha uma lista de arquivos de texto em uma pasta, por exemplo, **C:/temp/**. E você deseja substituir um texto por um novo em todos os arquivos.\n",
        "\n",
        "O seguinte programa de thread único mostra como substituir uma substring pela nova nos arquivos de texto:"
      ],
      "metadata": {
        "id": "7Ve7mK3NxRw6"
      }
    },
    {
      "cell_type": "markdown",
      "source": [
        "Para executar este programa pelo Colab, crie uma pasta temp em content e faça upload dos 10 arquivos de texto.\n",
        "![image.png](data:image/png;base64,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)"
      ],
      "metadata": {
        "id": "-BQrHVzU1HUm"
      }
    },
    {
      "cell_type": "code",
      "source": [
        "from time import perf_counter\n",
        "\n",
        "def replace(filename, substr, new_substr):\n",
        "    print(f'Processando o arquivo {filename}')\n",
        "    # pegando o conteúdo do arquivo\n",
        "    with open(filename, 'r') as f:\n",
        "        content = f.read()\n",
        "\n",
        "    # trocando a substr por uma nova new_substr\n",
        "    content = content.replace(substr, new_substr)\n",
        "\n",
        "    # escrevendo os dados no arquivo\n",
        "    with open(filename, 'w') as f:\n",
        "        f.write(content)\n",
        "\n",
        "def main():\n",
        "    filenames = [\n",
        "        '/content/temp/test1.txt',\n",
        "        '/content/temp/test2.txt',\n",
        "        '/content/temp/test3.txt',\n",
        "        '/content/temp/test4.txt',\n",
        "        '/content/temp/test5.txt',\n",
        "        '/content/temp/test6.txt',\n",
        "        '/content/temp/test7.txt',\n",
        "        '/content/temp/test8.txt',\n",
        "        '/content/temp/test9.txt',\n",
        "        '/content/temp/test10.txt',\n",
        "    ]\n",
        "\n",
        "    for filename in filenames:\n",
        "        replace(filename, 'ids', 'id')\n",
        "\n",
        "if __name__ == \"__main__\":\n",
        "    inicio = perf_counter()\n",
        "\n",
        "    main()\n",
        "\n",
        "    fim = perf_counter()\n",
        "    print(f'Levou {fim - inicio: 0.2f} segundo(s) para completar.')"
      ],
      "metadata": {
        "colab": {
          "base_uri": "https://localhost:8080/"
        },
        "id": "3j__R3TpxVUi",
        "outputId": "25247826-8def-49d8-e942-7f11d0508b50"
      },
      "execution_count": 4,
      "outputs": [
        {
          "output_type": "stream",
          "name": "stdout",
          "text": [
            "Processando o arquivo /content/temp/test1.txt\n",
            "Processando o arquivo /content/temp/test2.txt\n",
            "Processando o arquivo /content/temp/test3.txt\n",
            "Processando o arquivo /content/temp/test4.txt\n",
            "Processando o arquivo /content/temp/test5.txt\n",
            "Processando o arquivo /content/temp/test6.txt\n",
            "Processando o arquivo /content/temp/test7.txt\n",
            "Processando o arquivo /content/temp/test8.txt\n",
            "Processando o arquivo /content/temp/test9.txt\n",
            "Processando o arquivo /content/temp/test10.txt\n",
            "Levou  0.01 segundo(s) para completar.\n"
          ]
        }
      ]
    },
    {
      "cell_type": "markdown",
      "source": [
        "O programa a seguir tem a mesma funcionalidade. No entanto, ele usa vários encadeamentos:"
      ],
      "metadata": {
        "id": "P6WStP4tzyAL"
      }
    },
    {
      "cell_type": "code",
      "source": [
        "from threading import Thread\n",
        "from time import perf_counter\n",
        "\n",
        "\n",
        "def replace(filename, substr, new_substr):\n",
        "    print(f'Processando o arquivo {filename}')\n",
        "    # pegando o conteúdo do arquivo\n",
        "    with open(filename, 'r') as f:\n",
        "        content = f.read()\n",
        "\n",
        "    # trocando a substr por uma nova new_substr\n",
        "    content = content.replace(substr, new_substr)\n",
        "\n",
        "    # escrevendo os dados no arquivo\n",
        "    with open(filename, 'w') as f:\n",
        "        f.write(content)\n",
        "\n",
        "def main():\n",
        "    filenames = [\n",
        "        '/content/temp/test1.txt',\n",
        "        '/content/temp/test2.txt',\n",
        "        '/content/temp/test3.txt',\n",
        "        '/content/temp/test4.txt',\n",
        "        '/content/temp/test5.txt',\n",
        "        '/content/temp/test6.txt',\n",
        "        '/content/temp/test7.txt',\n",
        "        '/content/temp/test8.txt',\n",
        "        '/content/temp/test9.txt',\n",
        "        '/content/temp/test10.txt',\n",
        "    ]\n",
        "\n",
        "    # criando threads\n",
        "    threads = [Thread(target=replace, args=(filename, 'id', 'vanin'))\n",
        "            for filename in filenames]\n",
        "\n",
        "    # iniciando as threads\n",
        "    for thread in threads:\n",
        "        thread.start()\n",
        "\n",
        "    # esperando as threads completarem\n",
        "    for thread in threads:\n",
        "        thread.join()\n",
        "\n",
        "if __name__ == \"__main__\":\n",
        "    inicio = perf_counter()\n",
        "\n",
        "    main()\n",
        "\n",
        "    fim = perf_counter()\n",
        "    print(f'Levou {fim - inicio: 0.2f} segundo(s) para completar.')"
      ],
      "metadata": {
        "colab": {
          "base_uri": "https://localhost:8080/"
        },
        "id": "_wHKq89-z0fJ",
        "outputId": "32e62e76-89cf-4009-d2bd-140e18f861d2"
      },
      "execution_count": 5,
      "outputs": [
        {
          "output_type": "stream",
          "name": "stdout",
          "text": [
            "Processando o arquivo /content/temp/test1.txt\n",
            "Processando o arquivo /content/temp/test2.txt\n",
            "Processando o arquivo /content/temp/test3.txt\n",
            "Processando o arquivo /content/temp/test4.txt\n",
            "Processando o arquivo /content/temp/test5.txt\n",
            "Processando o arquivo /content/temp/test6.txt\n",
            "Processando o arquivo /content/temp/test7.txt\n",
            "Processando o arquivo /content/temp/test8.txt\n",
            "Processando o arquivo /content/temp/test9.txt\n",
            "Processando o arquivo /content/temp/test10.txt\n",
            "Levou  0.02 segundo(s) para completar.\n"
          ]
        }
      ]
    }
  ]
}